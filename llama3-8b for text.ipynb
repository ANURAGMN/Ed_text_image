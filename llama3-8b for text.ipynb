{
  "nbformat": 4,
  "nbformat_minor": 0,
  "metadata": {
    "colab": {
      "provenance": [],
      "gpuType": "T4"
    },
    "kernelspec": {
      "name": "python3",
      "display_name": "Python 3"
    },
    "language_info": {
      "name": "python"
    },
    "accelerator": "GPU"
  },
  "cells": [
    {
      "cell_type": "code",
      "execution_count": 1,
      "metadata": {
        "colab": {
          "base_uri": "https://localhost:8080/"
        },
        "id": "t9JyfpWtip4U",
        "outputId": "156741c8-39b0-4b10-8ae5-7c891641a000"
      },
      "outputs": [
        {
          "output_type": "stream",
          "name": "stdout",
          "text": [
            "Collecting groq\n",
            "  Downloading groq-0.12.0-py3-none-any.whl.metadata (13 kB)\n",
            "Requirement already satisfied: anyio<5,>=3.5.0 in /usr/local/lib/python3.10/dist-packages (from groq) (3.7.1)\n",
            "Requirement already satisfied: distro<2,>=1.7.0 in /usr/local/lib/python3.10/dist-packages (from groq) (1.9.0)\n",
            "Requirement already satisfied: httpx<1,>=0.23.0 in /usr/local/lib/python3.10/dist-packages (from groq) (0.27.2)\n",
            "Requirement already satisfied: pydantic<3,>=1.9.0 in /usr/local/lib/python3.10/dist-packages (from groq) (2.9.2)\n",
            "Requirement already satisfied: sniffio in /usr/local/lib/python3.10/dist-packages (from groq) (1.3.1)\n",
            "Requirement already satisfied: typing-extensions<5,>=4.7 in /usr/local/lib/python3.10/dist-packages (from groq) (4.12.2)\n",
            "Requirement already satisfied: idna>=2.8 in /usr/local/lib/python3.10/dist-packages (from anyio<5,>=3.5.0->groq) (3.10)\n",
            "Requirement already satisfied: exceptiongroup in /usr/local/lib/python3.10/dist-packages (from anyio<5,>=3.5.0->groq) (1.2.2)\n",
            "Requirement already satisfied: certifi in /usr/local/lib/python3.10/dist-packages (from httpx<1,>=0.23.0->groq) (2024.8.30)\n",
            "Requirement already satisfied: httpcore==1.* in /usr/local/lib/python3.10/dist-packages (from httpx<1,>=0.23.0->groq) (1.0.7)\n",
            "Requirement already satisfied: h11<0.15,>=0.13 in /usr/local/lib/python3.10/dist-packages (from httpcore==1.*->httpx<1,>=0.23.0->groq) (0.14.0)\n",
            "Requirement already satisfied: annotated-types>=0.6.0 in /usr/local/lib/python3.10/dist-packages (from pydantic<3,>=1.9.0->groq) (0.7.0)\n",
            "Requirement already satisfied: pydantic-core==2.23.4 in /usr/local/lib/python3.10/dist-packages (from pydantic<3,>=1.9.0->groq) (2.23.4)\n",
            "Downloading groq-0.12.0-py3-none-any.whl (108 kB)\n",
            "\u001b[?25l   \u001b[90m━━━━━━━━━━━━━━━━━━━━━━━━━━━━━━━━━━━━━━━━\u001b[0m \u001b[32m0.0/108.9 kB\u001b[0m \u001b[31m?\u001b[0m eta \u001b[36m-:--:--\u001b[0m\r\u001b[2K   \u001b[90m━━━━━━━━━━━━━━━━━━━━━━━━━━━━━━━━━━━━━━━━\u001b[0m \u001b[32m108.9/108.9 kB\u001b[0m \u001b[31m5.8 MB/s\u001b[0m eta \u001b[36m0:00:00\u001b[0m\n",
            "\u001b[?25hInstalling collected packages: groq\n",
            "Successfully installed groq-0.12.0\n"
          ]
        }
      ],
      "source": [
        "pip install groq"
      ]
    },
    {
      "cell_type": "code",
      "source": [
        "from groq import Groq\n",
        "\n",
        "client = Groq(\n",
        "    api_key=\"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\"\n",
        ")\n"
      ],
      "metadata": {
        "id": "Yez0lXpYisna"
      },
      "execution_count": 2,
      "outputs": []
    },
    {
      "cell_type": "code",
      "source": [
        "import os\n",
        "\n",
        "# Update the query to focus on education (Newton's Laws of Motion for 5th-grade students)\n",
        "chat_completion = client.chat.completions.create(\n",
        "    messages=[\n",
        "        {\n",
        "            \"role\": \"user\",\n",
        "            \"content\": \"\"\"\n",
        "                A 5th-grade student has an exam tomorrow on Newton's Laws of Motion.\n",
        "                Create a detailed, easy-to-understand study guide that covers all three of Newton's Laws of Motion.\n",
        "                For each law, provide:\n",
        "                1. A simple explanation of the law in everyday language.\n",
        "                2. Real-life examples to illustrate how the law works.\n",
        "                3. Fun \"Did you know?\" facts related to each law.\n",
        "                4. Five potential exam-style questions with answers related to each law.\n",
        "                The guide should be concise, easy to understand, and cover all the critical points needed to pass the exam.\n",
        "                The goal is for the student to quickly review and grasp the material in a short amount of time.\n",
        "            \"\"\"\n",
        "        }\n",
        "    ],\n",
        "    model=\"llama3-8b-8192\",  # Make sure the model you're using is compatible\n",
        ")\n",
        "\n",
        "# Print the generated response (study guide)\n",
        "print(chat_completion.choices[0].message.content)\n"
      ],
      "metadata": {
        "colab": {
          "base_uri": "https://localhost:8080/"
        },
        "id": "SPc_9xHWjF-U",
        "outputId": "5aa27dc3-c13e-4d9a-fa89-0f9bf2b176b4"
      },
      "execution_count": 3,
      "outputs": [
        {
          "output_type": "stream",
          "name": "stdout",
          "text": [
            "Newton's Laws of Motion Study Guide for 5th Grade\n",
            "\n",
            "**Newton's First Law of Motion:**\n",
            "\n",
            "**Explanation:** Objects at rest will remain at rest, and objects in motion will continue to move, unless acted upon by an external force.\n",
            "\n",
            "**Everyday Example:** Imagine you're sitting on a couch watching TV. As long as you're not getting up or being pushed, you'll stay sitting there. If your friend pushes you, you'll get up and move around, but if your friend stops pushing, you'll stop moving too.\n",
            "\n",
            "**Did You Know?**: The first law is also known as the \"law of inertia\". Inertia is like a force that keeps things at rest or in motion, and it can be very hard to change!\n",
            "\n",
            "**Exam-style Questions and Answers:**\n",
            "\n",
            "1. What happens to an object when it is not being pushed or pulled?\n",
            "Answer: It will remain at rest.\n",
            "2. What must happen to an object for it to change its motion?\n",
            "Answer: An external force must be applied to it.\n",
            "3. Why do you keep moving after you've started walking, but stop when you stop moving?\n",
            "Answer: Because you're using your legs to push yourself forward, and when you stop moving, the force is removed, causing you to stop.\n",
            "4. If you're standing still, what will happen if no one pushes you?\n",
            "Answer: You will remain standing still.\n",
            "5. What is the first law known as?\n",
            "Answer: The law of inertia.\n",
            "\n",
            "**Newton's Second Law of Motion:**\n",
            "\n",
            "**Explanation:** The force applied to an object is equal to the mass of the object multiplied by its acceleration.\n",
            "\n",
            "**Everyday Example:** Imagine you're playing tug-of-war with your friends. If you're all pulling together with equal force, the rope won't move. But if one person pulls harder, the rope will start to move. This is because the force of the person pulling harder is greater than the force of the others combined.\n",
            "\n",
            "**Did You Know?**: The second law is often written as F = ma, where F is force, m is mass, and a is acceleration.\n",
            "\n",
            "**Exam-style Questions and Answers:**\n",
            "\n",
            "1. What formula represents the second law of motion?\n",
            "Answer: F = ma\n",
            "2. If the force applied to an object is increased, what will happen to its acceleration?\n",
            "Answer: It will increase.\n",
            "3. Why does a heavy object take longer to stop moving than a light object?\n",
            "Answer: Because heavy objects have more mass, and more mass requires more force to stop.\n",
            "4. If you push a toy car with a certain force, what will happen if you increase the force?\n",
            "Answer: The car will accelerate faster.\n",
            "5. Why do astronauts in space float around?\n",
            "Answer: Because there is no air resistance in space, and their bodies have weight but no mass, making them accelerate quickly towards the ground, but since there's no ground, they just float around, moving slowly and lazily.\n",
            "\n",
            "**Newton's Third Law of Motion:**\n",
            "\n",
            "**Explanation:** For every action, there is an equal and opposite reaction.\n",
            "\n",
            "**Everyday Example:** Imagine you're playing catch with your friend. When you throw the ball to your friend, you're applying a force to the ball. But the ball is also applying a force to your hand, equal and opposite to the force you applied. That's why you feel the ball's resistance when you catch it.\n",
            "\n",
            "**Did You Know?**: The third law is often overlooked, but it's important to understand that forces always come in pairs!\n",
            "\n",
            "**Exam-style Questions and Answers:**\n",
            "\n",
            "1. What happens to the force you apply to an object?\n",
            "Answer: An equal and opposite force is applied to your hand or the object.\n",
            "2. Why does a fan blow air backwards?\n",
            "Answer: Because the air molecules moving forward from the fan apply a force to the fan, and the fan applies an equal force to the air molecules, making them move backwards.\n",
            "3. What happens when you stand on the ground and push against it?\n",
            "Answer: The ground applies an equal and opposite force back to your feet.\n",
            "4. Why do rockets blast into space?\n",
            "Answer: Because they apply a force to the ground, and the ground applies an equal and opposite force upwards, making the rocket move upward.\n",
            "5. What is another name for the third law of motion?\n",
            "Answer: The law of reciprocal actions.\n",
            "\n",
            "By reviewing this study guide, you should be well-prepared for your exam on Newton's Laws of Motion. Remember to focus on the key points and examples, and don't hesitate to ask for help if you need it!\n"
          ]
        }
      ]
    },
    {
      "cell_type": "code",
      "source": [],
      "metadata": {
        "id": "LQ0cSVzgjJhG"
      },
      "execution_count": null,
      "outputs": []
    }
  ]
}